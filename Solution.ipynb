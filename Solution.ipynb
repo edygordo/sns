{
  "nbformat": 4,
  "nbformat_minor": 0,
  "metadata": {
    "kernelspec": {
      "display_name": "Python 3",
      "language": "python",
      "name": "python3"
    },
    "language_info": {
      "codemirror_mode": {
        "name": "ipython",
        "version": 3
      },
      "file_extension": ".py",
      "mimetype": "text/x-python",
      "name": "python",
      "nbconvert_exporter": "python",
      "pygments_lexer": "ipython3",
      "version": "3.8.5"
    },
    "colab": {
      "name": "Solution.ipynb",
      "provenance": [],
      "collapsed_sections": [],
      "include_colab_link": true
    }
  },
  "cells": [
    {
      "cell_type": "markdown",
      "metadata": {
        "id": "view-in-github",
        "colab_type": "text"
      },
      "source": [
        "<a href=\"https://colab.research.google.com/github/edygordo/sns/blob/master/Solution.ipynb\" target=\"_parent\"><img src=\"https://colab.research.google.com/assets/colab-badge.svg\" alt=\"Open In Colab\"/></a>"
      ]
    },
    {
      "cell_type": "code",
      "metadata": {
        "colab": {
          "base_uri": "https://localhost:8080/"
        },
        "id": "37wAeTlCZc3c",
        "outputId": "c5e4bac2-8a17-43ba-a7f4-7196f3850d6b"
      },
      "source": [
        "from google.colab import drive\n",
        "drive.mount('/content/drive')"
      ],
      "execution_count": 1,
      "outputs": [
        {
          "output_type": "stream",
          "name": "stdout",
          "text": [
            "Mounted at /content/drive\n"
          ]
        }
      ]
    },
    {
      "cell_type": "code",
      "metadata": {
        "id": "5jBCtoUKZVNU"
      },
      "source": [
        "import pickle\n",
        "\n",
        "def store_data():\n",
        "    db = direct_path\n",
        "    dbfile = open('/content/drive/MyDrive/DPM/Direct_path_dict_full','ab')\n",
        "    pickle.dump(db,dbfile)\n",
        "    dbfile.close()\n",
        "    \n",
        "def load_data():\n",
        "    dbfile = open('/content/drive/MyDrive/DPM/Direct_path_dict_full','rb')\n",
        "    db = pickle.load(dbfile)\n",
        "    dbfile.close()\n",
        "    return db"
      ],
      "execution_count": 2,
      "outputs": []
    },
    {
      "cell_type": "code",
      "metadata": {
        "id": "XI0FPtvpZVNZ"
      },
      "source": [
        "def list_of_walks(lat, lon):\n",
        "    file = open('/content/drive/MyDrive/DPM/stops.csv','r')\n",
        "    my_list = []\n",
        "    file.readline()\n",
        "    while True:\n",
        "        line = file.readline()\n",
        "        if len(line)==0:\n",
        "            break;\n",
        "        else:\n",
        "            tokens = line.split(',')\n",
        "            f_lat = float(tokens[-2])\n",
        "            f_lon = float(tokens[-1])\n",
        "            stop_id = int(tokens[0])\n",
        "            if dist(lat,lon,f_lat,f_lon) <= 300:\n",
        "                my_list.append(stop_id)\n",
        "    file.close()\n",
        "    return my_list\n",
        "\n",
        "def find_lat_long(stop_id):\n",
        "    file = open('/content/drive/MyDrive/DPM/stops.csv','r')\n",
        "    file.readline()\n",
        "    while True:\n",
        "        line = file.readline()\n",
        "        if len(line) == 0:\n",
        "            break;\n",
        "        else:\n",
        "            token = line.split(',')\n",
        "            id = int(token[0])\n",
        "            lat = float(token[-2])\n",
        "            lon = float(token[-1])\n",
        "            if id == int(stop_id):\n",
        "                file.close()\n",
        "                return (lat,lon)\n",
        "\n",
        "def list_of_walks2(stop_id):\n",
        "    lat, lon = find_lat_long(stop_id)\n",
        "    file = open('/content/drive/MyDrive/DPM/stops.csv','r')\n",
        "    my_list = []\n",
        "    file.readline()\n",
        "    while True:\n",
        "        line = file.readline()\n",
        "        if len(line)==0:\n",
        "            break;\n",
        "        else:\n",
        "            tokens = line.split(',')\n",
        "            f_lat = float(tokens[-2])\n",
        "            f_lon = float(tokens[-1])\n",
        "            stop_id = int(tokens[0])\n",
        "            if dist(lat,lon,f_lat,f_lon) <= 300:\n",
        "                my_list.append(stop_id)\n",
        "    file.close()\n",
        "    return my_list\n",
        "            \n",
        "\n",
        "            \n",
        "def find_stop_id(stopname):\n",
        "    file = open('/content/drive/MyDrive/DPM/stops.csv','r')\n",
        "    file.readline()\n",
        "    while True:\n",
        "        line = file.readline()\n",
        "        if len(line) == 0:\n",
        "            break;\n",
        "        else:\n",
        "            tokens = line.split(',')\n",
        "            id = int(tokens[0])\n",
        "            name = tokens[2]\n",
        "            if stopname == name:\n",
        "                file.close()\n",
        "                return id\n",
        "    return -1 # If not found the stop_name!"
      ],
      "execution_count": 3,
      "outputs": []
    },
    {
      "cell_type": "code",
      "metadata": {
        "id": "loWyyTOSZVNb"
      },
      "source": [
        "# Convert a list of list to a single list\n",
        "def convert(t):\n",
        "    flat_list = [(x for x in item) if(type(item)==list) else item for item in t]\n",
        "    flat_list = [x for x in flat_list if type(x)==int]\n",
        "    flat_list = list(set(flat_list))\n",
        "    return flat_list\n",
        "\n",
        "def convert2(t):\n",
        "    flat_list = [item for sublist in t for item in sublist]\n",
        "    flat_list = list(set(flat_list))\n",
        "    return flat_list\n",
        "\n",
        "def remove_dup(t):\n",
        "    return list(set(t))\n",
        "\n",
        "import numpy as np\n",
        "from geopy.distance import geodesic\n",
        "\n",
        "def dist(x,y,a,b):\n",
        "    return geodesic((x,y),(a,b)).m"
      ],
      "execution_count": 4,
      "outputs": []
    },
    {
      "cell_type": "code",
      "metadata": {
        "id": "XuwUGqlGZVNc"
      },
      "source": [
        "# for a given trip_id, all the direct_routes in the trip\n",
        "trip_id_dict = dict()\n",
        "stop_times = open('/content/drive/MyDrive/DPM/stop_times.csv','r')\n",
        "flag = False\n",
        "while True:\n",
        "    line = stop_times.readline()\n",
        "    if len(line) == 0:\n",
        "        break;\n",
        "    tokens = line.split(',')\n",
        "    if flag:\n",
        "        if tokens[0] not in trip_id_dict.keys():\n",
        "            trip_id_dict[tokens[0]] = [int(float((tokens[-2])))]\n",
        "        else:\n",
        "            trip_id_dict[tokens[0]].append(int(float((tokens[-2]))))\n",
        "    else:\n",
        "        flag = True;\n",
        "    \n",
        "stop_times.close()"
      ],
      "execution_count": 5,
      "outputs": []
    },
    {
      "cell_type": "code",
      "metadata": {
        "id": "gbjgmwbVZVNe"
      },
      "source": [
        "# direct_path,  this function stores all the stop_ids that can be reached directly from a stop_id\n",
        "load = False\n",
        "\n",
        "if load:\n",
        "    direct_path = load_data()\n",
        "else:\n",
        "    direct_path = dict()\n",
        "    for trip_id in trip_id_dict:\n",
        "        for stop_ids in trip_id_dict[trip_id]:\n",
        "            if stop_ids in direct_path.keys():\n",
        "                direct_path[stop_ids] = direct_path[stop_ids] + trip_id_dict[trip_id]\n",
        "                direct_path[stop_ids] = list(set(direct_path[stop_ids]))\n",
        "            else:\n",
        "                direct_path[stop_ids] = trip_id_dict[trip_id]\n",
        "    direct_path\n",
        "    store_data()"
      ],
      "execution_count": 6,
      "outputs": []
    },
    {
      "cell_type": "code",
      "metadata": {
        "colab": {
          "base_uri": "https://localhost:8080/"
        },
        "id": "1WW6JbYa-Rou",
        "outputId": "053e8191-579f-4a17-a69b-5ac21127fbe7"
      },
      "source": [
        "# Unique stop ids are this much in full dataset\n",
        "len(direct_path.keys())"
      ],
      "execution_count": 8,
      "outputs": [
        {
          "output_type": "execute_result",
          "data": {
            "text/plain": [
              "9591"
            ]
          },
          "metadata": {},
          "execution_count": 8
        }
      ]
    },
    {
      "cell_type": "code",
      "metadata": {
        "id": "57CMl62tZVNf",
        "colab": {
          "base_uri": "https://localhost:8080/"
        },
        "outputId": "9ec6a30f-d3e5-4efc-a42d-6a56cd02fd3b"
      },
      "source": [
        "# Find for each stop id in direct_path 300m stations\n",
        "walks_dict = dict()\n",
        "count = 0\n",
        "for ids in direct_path:\n",
        "    walks_dict[ids] = convert(list_of_walks2(ids))\n",
        "    count = count+1\n",
        "    if(count%500 == 0):\n",
        "      print(count)"
      ],
      "execution_count": null,
      "outputs": [
        {
          "output_type": "stream",
          "name": "stdout",
          "text": [
            "500\n",
            "1000\n",
            "1500\n",
            "2000\n",
            "2500\n",
            "3000\n",
            "3500\n",
            "4000\n",
            "4500\n",
            "5000\n",
            "5500\n",
            "6000\n",
            "6500\n",
            "7000\n"
          ]
        }
      ]
    },
    {
      "cell_type": "code",
      "metadata": {
        "colab": {
          "base_uri": "https://localhost:8080/"
        },
        "id": "xp8-p9XuNEiZ",
        "outputId": "640874dc-ee16-4a06-eb22-ec6a38577076"
      },
      "source": [
        "# Example of 300m walkable distance stop_ids from stop_id = 7812.\n",
        "convert(list_of_walks2(7812))"
      ],
      "execution_count": null,
      "outputs": [
        {
          "output_type": "execute_result",
          "data": {
            "text/plain": [
              "[7812, 7655, 6473, 1208, 8889, 1658]"
            ]
          },
          "metadata": {},
          "execution_count": 10
        }
      ]
    },
    {
      "cell_type": "code",
      "metadata": {
        "id": "YGTpPTRAZVNg"
      },
      "source": [
        "# Append all walkable stops for a given stop_id in a given route!\n",
        "for stop_id in direct_path:\n",
        "    new_list = [walks_dict[direct_stop] for direct_stop in direct_path[stop_id]]\n",
        "    new_list = convert2(new_list)\n",
        "    direct_path[stop_id] = direct_path[stop_id]+new_list\n",
        "    direct_path[stop_id] = set(direct_path[stop_id])\n",
        "    #direct_path[stop_id] = convert(direct_path[stop_id])"
      ],
      "execution_count": null,
      "outputs": []
    },
    {
      "cell_type": "code",
      "metadata": {
        "id": "5guZslrZZVNg"
      },
      "source": [
        "store_data()"
      ],
      "execution_count": null,
      "outputs": []
    },
    {
      "cell_type": "code",
      "metadata": {
        "id": "ANkvUy5qZVNh"
      },
      "source": [
        "def exist(src_id,dst_id):\n",
        "    for id in direct_path[src_id]:\n",
        "        if id == dst_id:\n",
        "            return True;\n",
        "        else:\n",
        "            continue;\n",
        "    return False;"
      ],
      "execution_count": null,
      "outputs": []
    },
    {
      "cell_type": "code",
      "metadata": {
        "id": "wVvy4T2DZVNh"
      },
      "source": [
        "source = input('Enter Source:-')\n",
        "dest   = input('Enter Destination:-')\n",
        "source_id = find_stop_id(source)\n",
        "dest_id = find_stop_id(dest)\n",
        "print(exist(source_id,dest_id))"
      ],
      "execution_count": null,
      "outputs": []
    }
  ]
}